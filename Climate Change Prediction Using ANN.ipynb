{
 "cells": [
  {
   "cell_type": "markdown",
   "id": "10987284",
   "metadata": {},
   "source": [
    "# Importing Libraries."
   ]
  },
  {
   "cell_type": "code",
   "execution_count": 1,
   "id": "45b42596",
   "metadata": {},
   "outputs": [],
   "source": [
    "import numpy as np  # Linear algebra.\n",
    "import pandas as pd  # Data processing.\n",
    "from sklearn.impute import SimpleImputer# Univariate imputer for completing missing values with simple strategies.\n",
    "from sklearn.preprocessing import LabelEncoder  # Encode target labels.\n",
    "from sklearn.preprocessing import StandardScaler # Standardize features by removing the mean and scaling to unit variance.\n",
    "from sklearn.model_selection import train_test_split # Splits The data to test and train sets.\n",
    "import tensorflow as tf #Initializing the ANN\n",
    "import sklearn.metrics as sm\n",
    "# import plotly.io as pio\n",
    "# import plotly.express as px"
   ]
  },
  {
   "cell_type": "markdown",
   "id": "9a02984f",
   "metadata": {},
   "source": [
    "# Dataset1 (Amman Airport)\n"
   ]
  },
  {
   "cell_type": "code",
   "execution_count": 2,
   "id": "a89170e1",
   "metadata": {},
   "outputs": [],
   "source": [
    "# Importing the data.\n",
    "data1 = pd.read_excel('Amman Airport 01-01-2000 --- 31-05-2022.xlsx',\n",
    "                      header=5, na_values=['Null'], parse_dates=['Date/Time'])"
   ]
  },
  {
   "cell_type": "code",
   "execution_count": 3,
   "id": "0b3a190b",
   "metadata": {},
   "outputs": [],
   "source": [
    "# Drop useless columns.\n",
    "data1 = data1.drop(columns=['Station', 'Manual Present Weather …',\n",
    "                   'Cloud Type', 'Unnamed: 16', 'Unnamed: 17', 'Wind Type'])"
   ]
  },
  {
   "cell_type": "code",
   "execution_count": 4,
   "id": "91cafe90",
   "metadata": {},
   "outputs": [],
   "source": [
    "# Add a new columns.\n",
    "data1['Area'] = 'Amman Airport'\n",
    "data1['Latitude'] = 31.59\n",
    "data1['Longitude'] = 35.59"
   ]
  },
  {
   "cell_type": "code",
   "execution_count": 5,
   "id": "99f4a6ff",
   "metadata": {},
   "outputs": [],
   "source": [
    "# Replace (sky obscured or cloud amount cannot be estimated) with Nan value.\n",
    "data1['Clouds Cover (Okta)'] = data1['Clouds Cover (Okta)'].replace(\n",
    "    r'sky obscured or cloud amount cannot be estimated', np.nan)"
   ]
  },
  {
   "cell_type": "code",
   "execution_count": 6,
   "id": "a07e3ba6",
   "metadata": {},
   "outputs": [],
   "source": [
    "# Move the columns.\n",
    "data1.insert(1, 'Area', data1.pop('Area'))\n",
    "data1.insert(2, 'Latitude', data1.pop('Latitude'))\n",
    "data1.insert(3, 'Longitude', data1.pop('Longitude'))"
   ]
  },
  {
   "cell_type": "code",
   "execution_count": 7,
   "id": "7ed068d1",
   "metadata": {},
   "outputs": [
    {
     "name": "stdout",
     "output_type": "stream",
     "text": [
      "<class 'pandas.core.frame.DataFrame'>\n",
      "RangeIndex: 217778 entries, 0 to 217777\n",
      "Data columns (total 15 columns):\n",
      " #   Column                       Non-Null Count   Dtype         \n",
      "---  ------                       --------------   -----         \n",
      " 0   Date/Time                    217778 non-null  datetime64[ns]\n",
      " 1   Area                         217778 non-null  object        \n",
      " 2   Latitude                     217778 non-null  float64       \n",
      " 3   Longitude                    217778 non-null  float64       \n",
      " 4   Air Dew Point                217778 non-null  float64       \n",
      " 5   Air Temperature (OC)         217778 non-null  float64       \n",
      " 6   Humidity %                   217778 non-null  float64       \n",
      " 7   Atmospheric Pressure         217778 non-null  float64       \n",
      " 8   Liquid Precipitation         217778 non-null  float64       \n",
      " 9   Clouds Cover (Okta)          217778 non-null  float64       \n",
      " 10  Cloud Cover %                217778 non-null  float64       \n",
      " 11  Snow Depth                   217778 non-null  float64       \n",
      " 12  Horizontal Visibility In m.  217778 non-null  float64       \n",
      " 13  Wind Direction (Degrees)     217778 non-null  float64       \n",
      " 14  Wind Speed (MPS)             217778 non-null  float64       \n",
      "dtypes: datetime64[ns](1), float64(13), object(1)\n",
      "memory usage: 24.9+ MB\n"
     ]
    }
   ],
   "source": [
    "# Fixing missing data.\n",
    "simpleImputer = SimpleImputer(\n",
    "    missing_values=np.nan, strategy='constant', fill_value=0)\n",
    "simpleImputer.fit(data1['Snow Depth'].values.reshape(-1, 1))\n",
    "data1['Snow Depth'] = simpleImputer.transform(\n",
    "    data1['Snow Depth'].values.reshape(-1, 1))\n",
    "\n",
    "simpleImputer = SimpleImputer(\n",
    "    missing_values=np.nan, strategy='constant', fill_value=0)\n",
    "simpleImputer.fit(data1['Wind Direction (Degrees)'].values.reshape(-1, 1))\n",
    "data1['Wind Direction (Degrees)'] = simpleImputer.transform(\n",
    "    data1['Wind Direction (Degrees)'].values.reshape(-1, 1))\n",
    "\n",
    "simpleImputer = SimpleImputer(missing_values=np.nan, strategy='mean')\n",
    "simpleImputer.fit(data1.iloc[:, 4:11])\n",
    "data1.iloc[:, 4:11] = simpleImputer.transform(data1.iloc[:, 4:11])\n",
    "\n",
    "simpleImputer = SimpleImputer(missing_values=np.nan, strategy='mean')\n",
    "simpleImputer.fit(data1['Horizontal Visibility In m.'].values.reshape(-1, 1))\n",
    "data1['Horizontal Visibility In m.'] = simpleImputer.transform(\n",
    "    data1['Horizontal Visibility In m.'].values.reshape(-1, 1))\n",
    "\n",
    "simpleImputer = SimpleImputer(missing_values=np.nan, strategy='mean')\n",
    "simpleImputer.fit(data1['Wind Speed (MPS)'].values.reshape(-1, 1))\n",
    "data1['Wind Speed (MPS)'] = simpleImputer.transform(\n",
    "    data1['Wind Speed (MPS)'].values.reshape(-1, 1))\n",
    "data1.info()"
   ]
  },
  {
   "cell_type": "markdown",
   "id": "b23f71ca",
   "metadata": {},
   "source": [
    "# Dataset2 (Aqaba Airport)"
   ]
  },
  {
   "cell_type": "code",
   "execution_count": 8,
   "id": "e18d8bd0",
   "metadata": {},
   "outputs": [],
   "source": [
    "#Importing the data.\n",
    "data2 = pd.read_excel('Aqaba Airport  01-01-2000 --- 31-05-2022.xlsx',\n",
    "                      header=5, na_values=['Null'], parse_dates=['Date/Time'])"
   ]
  },
  {
   "cell_type": "code",
   "execution_count": 9,
   "id": "638294ee",
   "metadata": {},
   "outputs": [],
   "source": [
    "# %%% Drop useless columns.\n",
    "data2 = data2.drop(columns=[\n",
    "                   'Station', 'Manual Present Weather …', 'Cloud Type', 'Unnamed: 16', 'Wind Type'])"
   ]
  },
  {
   "cell_type": "code",
   "execution_count": 10,
   "id": "7f5e77ad",
   "metadata": {},
   "outputs": [],
   "source": [
    "# %%% Add a new columns.\n",
    "data2['Area'] = 'Aqaba Airport'\n",
    "data2['Latitude'] = 29.3300\n",
    "data2['Longitude'] = 35.0000\n"
   ]
  },
  {
   "cell_type": "code",
   "execution_count": 11,
   "id": "aa3415e7",
   "metadata": {},
   "outputs": [],
   "source": [
    "# Replace (sky obscured or cloud amount cannot be estimated) with Nan value.\n",
    "data2['Clouds Cover (Okta)'] = data2['Clouds Cover (Okta)'].replace(\n",
    "    r'sky obscured or cloud amount cannot be estimated', np.nan)"
   ]
  },
  {
   "cell_type": "code",
   "execution_count": 12,
   "id": "6cde604a",
   "metadata": {},
   "outputs": [],
   "source": [
    "# Move the columns.\n",
    "data2.insert(1, 'Area', data2.pop('Area'))\n",
    "data2.insert(2, 'Latitude', data2.pop('Latitude'))\n",
    "data2.insert(3, 'Longitude', data2.pop('Longitude'))"
   ]
  },
  {
   "cell_type": "code",
   "execution_count": 13,
   "id": "d589b5b0",
   "metadata": {},
   "outputs": [
    {
     "name": "stdout",
     "output_type": "stream",
     "text": [
      "<class 'pandas.core.frame.DataFrame'>\n",
      "RangeIndex: 184113 entries, 0 to 184112\n",
      "Data columns (total 15 columns):\n",
      " #   Column                       Non-Null Count   Dtype         \n",
      "---  ------                       --------------   -----         \n",
      " 0   Date/Time                    184113 non-null  datetime64[ns]\n",
      " 1   Area                         184113 non-null  object        \n",
      " 2   Latitude                     184113 non-null  float64       \n",
      " 3   Longitude                    184113 non-null  float64       \n",
      " 4   Air Dew Point                184113 non-null  float64       \n",
      " 5   Air Temperature (OC)         184113 non-null  float64       \n",
      " 6   Humidity %                   184113 non-null  float64       \n",
      " 7   Atmospheric Pressure         184113 non-null  float64       \n",
      " 8   Liquid Precipitation         184113 non-null  float64       \n",
      " 9   Clouds Cover (Okta)          184113 non-null  float64       \n",
      " 10  Cloud Cover %                184113 non-null  float64       \n",
      " 11  Snow Depth                   184113 non-null  float64       \n",
      " 12  Horizontal Visibility In m.  184113 non-null  float64       \n",
      " 13  Wind Direction (Degrees)     184113 non-null  float64       \n",
      " 14  Wind Speed (MPS)             184113 non-null  float64       \n",
      "dtypes: datetime64[ns](1), float64(13), object(1)\n",
      "memory usage: 21.1+ MB\n"
     ]
    }
   ],
   "source": [
    "# Fixing missing data.\n",
    "simpleImputer = SimpleImputer(\n",
    "    missing_values=np.nan, strategy='constant', fill_value=0)\n",
    "simpleImputer.fit(data2['Snow Depth'].values.reshape(-1, 1))\n",
    "data2['Snow Depth'] = simpleImputer.transform(\n",
    "    data2['Snow Depth'].values.reshape(-1, 1))\n",
    "\n",
    "simpleImputer = SimpleImputer(\n",
    "    missing_values=np.nan, strategy='constant', fill_value=0)\n",
    "simpleImputer.fit(data2['Wind Direction (Degrees)'].values.reshape(-1, 1))\n",
    "data2['Wind Direction (Degrees)'] = simpleImputer.transform(\n",
    "    data2['Wind Direction (Degrees)'].values.reshape(-1, 1))\n",
    "\n",
    "simpleImputer = SimpleImputer(missing_values=np.nan, strategy='mean')\n",
    "simpleImputer.fit(data2.iloc[:, 4:11])\n",
    "data2.iloc[:, 4:11] = simpleImputer.transform(data2.iloc[:, 4:11])\n",
    "\n",
    "simpleImputer = SimpleImputer(missing_values=np.nan, strategy='mean')\n",
    "simpleImputer.fit(data2['Horizontal Visibility In m.'].values.reshape(-1, 1))\n",
    "data2['Horizontal Visibility In m.'] = simpleImputer.transform(\n",
    "    data2['Horizontal Visibility In m.'].values.reshape(-1, 1))\n",
    "\n",
    "simpleImputer = SimpleImputer(missing_values=np.nan, strategy='mean')\n",
    "simpleImputer.fit(data2['Wind Speed (MPS)'].values.reshape(-1, 1))\n",
    "data2['Wind Speed (MPS)'] = simpleImputer.transform(\n",
    "    data2['Wind Speed (MPS)'].values.reshape(-1, 1))\n",
    "data2.info()"
   ]
  },
  {
   "cell_type": "markdown",
   "id": "f105fde6",
   "metadata": {},
   "source": [
    "# Dataset3 (Queen Alia Airport)"
   ]
  },
  {
   "cell_type": "code",
   "execution_count": 14,
   "id": "2533cc6d",
   "metadata": {},
   "outputs": [],
   "source": [
    "# Importing the data.\n",
    "data3 = pd.read_excel('Queen Alia Airport   01-01-2000 --- 08-12-2022.xlsx',\n",
    "                      header=5, na_values=['Null'], parse_dates=['Date/Time'])"
   ]
  },
  {
   "cell_type": "code",
   "execution_count": 15,
   "id": "9de6a35c",
   "metadata": {},
   "outputs": [],
   "source": [
    "# Drop useless columns.\n",
    "data3 = data3.drop(\n",
    "    columns=['Station', 'Manual Present Weather …', 'Cloud Type', 'Wind Type'])"
   ]
  },
  {
   "cell_type": "code",
   "execution_count": 16,
   "id": "37dec5fe",
   "metadata": {},
   "outputs": [],
   "source": [
    "# Add a new columns.\n",
    "data3['Area'] = 'Queen Alia Airport'\n",
    "data3['Latitude'] = 31.4300\n",
    "data3['Longitude'] = 35.5900"
   ]
  },
  {
   "cell_type": "code",
   "execution_count": 17,
   "id": "af4c3495",
   "metadata": {},
   "outputs": [],
   "source": [
    "# Replace (sky obscured or cloud amount cannot be estimated) with Nan value.\n",
    "data3['Clouds Cover (Okta)'] = data3['Clouds Cover (Okta)'].replace(\n",
    "    r'sky obscured or cloud amount cannot be estimated', np.nan)"
   ]
  },
  {
   "cell_type": "code",
   "execution_count": 18,
   "id": "8165823b",
   "metadata": {},
   "outputs": [],
   "source": [
    "# Renaming cloumns to match with the other datasets.\n",
    "data3.rename(columns={'Snow Depth.depth In CM': 'Snow Depth'}, inplace=True)\n",
    "data3.rename(columns={'liquid Precipitation depth In MM': 'Liquid Precipitation'}, inplace=True)"
   ]
  },
  {
   "cell_type": "code",
   "execution_count": 19,
   "id": "ebff49f8",
   "metadata": {},
   "outputs": [],
   "source": [
    "# Move the columns.\n",
    "data3.insert(1, 'Area', data3.pop('Area'))\n",
    "data3.insert(2, 'Latitude', data3.pop('Latitude'))\n",
    "data3.insert(3, 'Longitude', data3.pop('Longitude'))"
   ]
  },
  {
   "cell_type": "code",
   "execution_count": 20,
   "id": "3ce93702",
   "metadata": {},
   "outputs": [
    {
     "name": "stdout",
     "output_type": "stream",
     "text": [
      "<class 'pandas.core.frame.DataFrame'>\n",
      "RangeIndex: 217477 entries, 0 to 217476\n",
      "Data columns (total 15 columns):\n",
      " #   Column                       Non-Null Count   Dtype         \n",
      "---  ------                       --------------   -----         \n",
      " 0   Date/Time                    217477 non-null  datetime64[ns]\n",
      " 1   Area                         217477 non-null  object        \n",
      " 2   Latitude                     217477 non-null  float64       \n",
      " 3   Longitude                    217477 non-null  float64       \n",
      " 4   Air Dew Point                217477 non-null  float64       \n",
      " 5   Air Temperature (OC)         217477 non-null  float64       \n",
      " 6   Humidity %                   217477 non-null  float64       \n",
      " 7   Atmospheric Pressure         217477 non-null  float64       \n",
      " 8   Liquid Precipitation         217477 non-null  float64       \n",
      " 9   Clouds Cover (Okta)          217477 non-null  float64       \n",
      " 10  Cloud Cover %                217477 non-null  float64       \n",
      " 11  Snow Depth                   217477 non-null  float64       \n",
      " 12  Horizontal Visibility In m.  217477 non-null  float64       \n",
      " 13  Wind Direction (Degrees)     217477 non-null  float64       \n",
      " 14  Wind Speed (MPS)             217477 non-null  float64       \n",
      "dtypes: datetime64[ns](1), float64(13), object(1)\n",
      "memory usage: 24.9+ MB\n"
     ]
    }
   ],
   "source": [
    "# Fixing missing data.\n",
    "simpleImputer = SimpleImputer(\n",
    "    missing_values=np.nan, strategy='constant', fill_value=0)\n",
    "simpleImputer.fit(data3['Snow Depth'].values.reshape(-1, 1))\n",
    "data3['Snow Depth'] = simpleImputer.transform(\n",
    "    data3['Snow Depth'].values.reshape(-1, 1))\n",
    "\n",
    "simpleImputer = SimpleImputer(\n",
    "    missing_values=np.nan, strategy='constant', fill_value=0)\n",
    "simpleImputer.fit(data3['Wind Direction (Degrees)'].values.reshape(-1, 1))\n",
    "data3['Wind Direction (Degrees)'] = simpleImputer.transform(\n",
    "    data3['Wind Direction (Degrees)'].values.reshape(-1, 1))\n",
    "\n",
    "simpleImputer = SimpleImputer(missing_values=np.nan, strategy='mean')\n",
    "simpleImputer.fit(data3.iloc[:, 4:11])\n",
    "data3.iloc[:, 4:11] = simpleImputer.transform(data3.iloc[:, 4:11])\n",
    "\n",
    "simpleImputer = SimpleImputer(missing_values=np.nan, strategy='mean')\n",
    "simpleImputer.fit(data3['Horizontal Visibility In m.'].values.reshape(-1, 1))\n",
    "data3['Horizontal Visibility In m.'] = simpleImputer.transform(\n",
    "    data3['Horizontal Visibility In m.'].values.reshape(-1, 1))\n",
    "\n",
    "simpleImputer = SimpleImputer(missing_values=np.nan, strategy='mean')\n",
    "simpleImputer.fit(data3['Wind Speed (MPS)'].values.reshape(-1, 1))\n",
    "data3['Wind Speed (MPS)'] = simpleImputer.transform(\n",
    "    data3['Wind Speed (MPS)'].values.reshape(-1, 1))\n",
    "data3.info()"
   ]
  },
  {
   "cell_type": "markdown",
   "id": "5391f0f7",
   "metadata": {},
   "source": [
    "# Dataset4 (Ghor El Safi)"
   ]
  },
  {
   "cell_type": "code",
   "execution_count": 21,
   "id": "c88109b6",
   "metadata": {},
   "outputs": [],
   "source": [
    "# Importing the data.\n",
    "data4 = pd.read_excel('Ghor El Safi  01-01-2000 ---  31-05-2022.xlsx',\n",
    "                      header=5, na_values=['Null'], parse_dates=['Date/Time'])"
   ]
  },
  {
   "cell_type": "code",
   "execution_count": 22,
   "id": "6dbb2452",
   "metadata": {},
   "outputs": [],
   "source": [
    "# Drop useless columns.\n",
    "data4 = data4.drop(\n",
    "    columns=['Station', 'Manual Present Weather …', 'Cloud Type', 'Wind Type'])"
   ]
  },
  {
   "cell_type": "code",
   "execution_count": 23,
   "id": "caf70075",
   "metadata": {},
   "outputs": [],
   "source": [
    "# Add a new columns.\n",
    "data4['Area'] = 'Ghor El Safi'\n",
    "data4['Latitude'] = 31.02\n",
    "data4['Longitude'] = 35.28"
   ]
  },
  {
   "cell_type": "code",
   "execution_count": 24,
   "id": "f87a65e9",
   "metadata": {},
   "outputs": [],
   "source": [
    "# Replace (sky obscured or cloud amount cannot be estimated) with Nan value.\n",
    "data4['Clouds Cover (Okta)'] = data4['Clouds Cover (Okta)'].replace(\n",
    "    r'sky obscured or cloud amount cannot be estimated', np.nan)"
   ]
  },
  {
   "cell_type": "code",
   "execution_count": 25,
   "id": "b3fe6f47",
   "metadata": {},
   "outputs": [],
   "source": [
    "# Move the columns.\n",
    "data4.insert(1, 'Area', data4.pop('Area'))\n",
    "data4.insert(2, 'Latitude', data4.pop('Latitude'))\n",
    "data4.insert(3, 'Longitude', data4.pop('Longitude'))"
   ]
  },
  {
   "cell_type": "code",
   "execution_count": 26,
   "id": "70d8955e",
   "metadata": {},
   "outputs": [
    {
     "name": "stdout",
     "output_type": "stream",
     "text": [
      "<class 'pandas.core.frame.DataFrame'>\n",
      "RangeIndex: 42324 entries, 0 to 42323\n",
      "Data columns (total 15 columns):\n",
      " #   Column                       Non-Null Count  Dtype         \n",
      "---  ------                       --------------  -----         \n",
      " 0   Date/Time                    42324 non-null  datetime64[ns]\n",
      " 1   Area                         42324 non-null  object        \n",
      " 2   Latitude                     42324 non-null  float64       \n",
      " 3   Longitude                    42324 non-null  float64       \n",
      " 4   Air Dew Point                42324 non-null  float64       \n",
      " 5   Air Temperature (OC)         42324 non-null  float64       \n",
      " 6   Humidity %                   42324 non-null  float64       \n",
      " 7   Atmospheric Pressure         42324 non-null  float64       \n",
      " 8   Liquid Precipitation         42324 non-null  float64       \n",
      " 9   Clouds Cover (Okta)          42324 non-null  float64       \n",
      " 10  Cloud Cover %                42324 non-null  float64       \n",
      " 11  Snow Depth                   42324 non-null  float64       \n",
      " 12  Horizontal Visibility In m.  42324 non-null  float64       \n",
      " 13  Wind Direction (Degrees)     42324 non-null  float64       \n",
      " 14  Wind Speed (MPS)             42324 non-null  float64       \n",
      "dtypes: datetime64[ns](1), float64(13), object(1)\n",
      "memory usage: 4.8+ MB\n"
     ]
    }
   ],
   "source": [
    "# Fixing missing data.\n",
    "simpleImputer = SimpleImputer(\n",
    "    missing_values=np.nan, strategy='constant', fill_value=0)\n",
    "simpleImputer.fit(data4['Snow Depth'].values.reshape(-1, 1))\n",
    "data4['Snow Depth'] = simpleImputer.transform(\n",
    "    data4['Snow Depth'].values.reshape(-1, 1))\n",
    "\n",
    "simpleImputer = SimpleImputer(\n",
    "    missing_values=np.nan, strategy='constant', fill_value=0)\n",
    "simpleImputer.fit(data4['Wind Direction (Degrees)'].values.reshape(-1, 1))\n",
    "data4['Wind Direction (Degrees)'] = simpleImputer.transform(\n",
    "    data4['Wind Direction (Degrees)'].values.reshape(-1, 1))\n",
    "\n",
    "simpleImputer = SimpleImputer(missing_values=np.nan, strategy='mean')\n",
    "simpleImputer.fit(data4.iloc[:, 4:11])\n",
    "data4.iloc[:, 4:11] = simpleImputer.transform(data4.iloc[:, 4:11])\n",
    "\n",
    "simpleImputer = SimpleImputer(missing_values=np.nan, strategy='mean')\n",
    "simpleImputer.fit(data4['Horizontal Visibility In m.'].values.reshape(-1, 1))\n",
    "data4['Horizontal Visibility In m.'] = simpleImputer.transform(\n",
    "    data4['Horizontal Visibility In m.'].values.reshape(-1, 1))\n",
    "\n",
    "simpleImputer = SimpleImputer(missing_values=np.nan, strategy='mean')\n",
    "simpleImputer.fit(data4['Wind Speed (MPS)'].values.reshape(-1, 1))\n",
    "data4['Wind Speed (MPS)'] = simpleImputer.transform(\n",
    "    data4['Wind Speed (MPS)'].values.reshape(-1, 1))\n",
    "data4.info()"
   ]
  },
  {
   "cell_type": "markdown",
   "id": "5e499e4f",
   "metadata": {},
   "source": [
    "# Dataset5 (Irwaished)"
   ]
  },
  {
   "cell_type": "code",
   "execution_count": 27,
   "id": "8a1fc48d",
   "metadata": {},
   "outputs": [],
   "source": [
    "# Importing the data.\n",
    "data5 = pd.read_excel('Irwaished  01-01-2000 --- 31-10-2021.xlsx',\n",
    "                      header=5, na_values=['Null'], parse_dates=['Date/Time'])"
   ]
  },
  {
   "cell_type": "code",
   "execution_count": 28,
   "id": "c452ab0b",
   "metadata": {},
   "outputs": [],
   "source": [
    "# Drop useless columns.\n",
    "data5 = data5.drop(\n",
    "    columns=['Station', 'Manual Present Weather …', 'Cloud Type', 'Wind Type'])"
   ]
  },
  {
   "cell_type": "code",
   "execution_count": 29,
   "id": "a15dce1b",
   "metadata": {},
   "outputs": [],
   "source": [
    "# Add a new columns.\n",
    "data5['Area'] = 'Irwaished'\n",
    "data5['Latitude'] = 32.30\n",
    "data5['Longitude'] = 38.12"
   ]
  },
  {
   "cell_type": "code",
   "execution_count": 30,
   "id": "cba7ef7f",
   "metadata": {},
   "outputs": [],
   "source": [
    "# Replace (sky obscured or cloud amount cannot be estimated) with Nan value.\n",
    "data5['Clouds Cover (Okta)'] = data5['Clouds Cover (Okta)'].replace(\n",
    "    r'sky obscured or cloud amount cannot be estimated', np.nan)"
   ]
  },
  {
   "cell_type": "code",
   "execution_count": 31,
   "id": "b55f6f41",
   "metadata": {},
   "outputs": [],
   "source": [
    "# Move the columns.\n",
    "data5.insert(1, 'Area', data5.pop('Area'))\n",
    "data5.insert(2, 'Latitude', data5.pop('Latitude'))\n",
    "data5.insert(3, 'Longitude', data5.pop('Longitude'))"
   ]
  },
  {
   "cell_type": "code",
   "execution_count": 32,
   "id": "8dc4d336",
   "metadata": {},
   "outputs": [
    {
     "name": "stdout",
     "output_type": "stream",
     "text": [
      "<class 'pandas.core.frame.DataFrame'>\n",
      "RangeIndex: 41823 entries, 0 to 41822\n",
      "Data columns (total 15 columns):\n",
      " #   Column                       Non-Null Count  Dtype         \n",
      "---  ------                       --------------  -----         \n",
      " 0   Date/Time                    41823 non-null  datetime64[ns]\n",
      " 1   Area                         41823 non-null  object        \n",
      " 2   Latitude                     41823 non-null  float64       \n",
      " 3   Longitude                    41823 non-null  float64       \n",
      " 4   Air Dew Point                41823 non-null  float64       \n",
      " 5   Air Temperature (OC)         41823 non-null  float64       \n",
      " 6   Humidity %                   41823 non-null  float64       \n",
      " 7   Atmospheric Pressure         41823 non-null  float64       \n",
      " 8   Liquid Precipitation         41823 non-null  float64       \n",
      " 9   Clouds Cover (Okta)          41823 non-null  float64       \n",
      " 10  Cloud Cover %                41823 non-null  float64       \n",
      " 11  Snow Depth                   41823 non-null  float64       \n",
      " 12  Horizontal Visibility In m.  41823 non-null  float64       \n",
      " 13  Wind Direction (Degrees)     41823 non-null  float64       \n",
      " 14  Wind Speed (MPS)             41823 non-null  float64       \n",
      "dtypes: datetime64[ns](1), float64(13), object(1)\n",
      "memory usage: 4.8+ MB\n"
     ]
    }
   ],
   "source": [
    "# Fixing missing data.\n",
    "simpleImputer = SimpleImputer(\n",
    "    missing_values=np.nan, strategy='constant', fill_value=0)\n",
    "simpleImputer.fit(data5['Snow Depth'].values.reshape(-1, 1))\n",
    "data5['Snow Depth'] = simpleImputer.transform(\n",
    "    data5['Snow Depth'].values.reshape(-1, 1))\n",
    "\n",
    "simpleImputer = SimpleImputer(\n",
    "    missing_values=np.nan, strategy='constant', fill_value=0)\n",
    "simpleImputer.fit(data5['Wind Direction (Degrees)'].values.reshape(-1, 1))\n",
    "data5['Wind Direction (Degrees)'] = simpleImputer.transform(\n",
    "    data5['Wind Direction (Degrees)'].values.reshape(-1, 1))\n",
    "\n",
    "simpleImputer = SimpleImputer(missing_values=np.nan, strategy='mean')\n",
    "simpleImputer.fit(data5.iloc[:, 4:11])\n",
    "data5.iloc[:, 4:11] = simpleImputer.transform(data5.iloc[:, 4:11])\n",
    "\n",
    "simpleImputer = SimpleImputer(missing_values=np.nan, strategy='mean')\n",
    "simpleImputer.fit(data5['Horizontal Visibility In m.'].values.reshape(-1, 1))\n",
    "data5['Horizontal Visibility In m.'] = simpleImputer.transform(\n",
    "    data5['Horizontal Visibility In m.'].values.reshape(-1, 1))\n",
    "\n",
    "simpleImputer = SimpleImputer(missing_values=np.nan, strategy='mean')\n",
    "simpleImputer.fit(data5['Wind Speed (MPS)'].values.reshape(-1, 1))\n",
    "data5['Wind Speed (MPS)'] = simpleImputer.transform(\n",
    "    data5['Wind Speed (MPS)'].values.reshape(-1, 1))\n",
    "data5.info()"
   ]
  },
  {
   "cell_type": "markdown",
   "id": "7e7c84b6",
   "metadata": {},
   "source": [
    "# Dataset6 (Maan)"
   ]
  },
  {
   "cell_type": "code",
   "execution_count": 33,
   "id": "1a342f6d",
   "metadata": {},
   "outputs": [],
   "source": [
    "# Importing the data.\n",
    "data6 = pd.read_excel('Maan   01-01-2000 ---   31-05-2022.xlsx',\n",
    "                      header=5, na_values=['Null'], parse_dates=['Date/Time'])"
   ]
  },
  {
   "cell_type": "code",
   "execution_count": 34,
   "id": "0319892f",
   "metadata": {},
   "outputs": [],
   "source": [
    "# Drop useless columns.\n",
    "data6 = data6.drop(\n",
    "    columns=['Station', 'Manual Present Weather …', 'Cloud Type', 'Wind Type'])"
   ]
  },
  {
   "cell_type": "code",
   "execution_count": 35,
   "id": "f8eaaa80",
   "metadata": {},
   "outputs": [],
   "source": [
    "# Add a new columns.\n",
    "data6['Area'] = 'Maan'\n",
    "data6['Latitude'] = 30.10\n",
    "data6['Longitude'] = 35.47"
   ]
  },
  {
   "cell_type": "code",
   "execution_count": 36,
   "id": "4232081f",
   "metadata": {},
   "outputs": [],
   "source": [
    "# Replace (sky obscured or cloud amount cannot be estimated) with Nan value.\n",
    "data6['Clouds Cover (Okta)'] = data6['Clouds Cover (Okta)'].replace(\n",
    "    r'sky obscured or cloud amount cannot be estimated', np.nan)"
   ]
  },
  {
   "cell_type": "code",
   "execution_count": 37,
   "id": "f210c591",
   "metadata": {},
   "outputs": [],
   "source": [
    "# Move the columns.\n",
    "data6.insert(1, 'Area', data6.pop('Area'))\n",
    "data6.insert(2, 'Latitude', data6.pop('Latitude'))\n",
    "data6.insert(3, 'Longitude', data6.pop('Longitude'))"
   ]
  },
  {
   "cell_type": "code",
   "execution_count": 38,
   "id": "b26ccc70",
   "metadata": {},
   "outputs": [
    {
     "name": "stdout",
     "output_type": "stream",
     "text": [
      "<class 'pandas.core.frame.DataFrame'>\n",
      "RangeIndex: 48610 entries, 0 to 48609\n",
      "Data columns (total 15 columns):\n",
      " #   Column                       Non-Null Count  Dtype         \n",
      "---  ------                       --------------  -----         \n",
      " 0   Date/Time                    48610 non-null  datetime64[ns]\n",
      " 1   Area                         48610 non-null  object        \n",
      " 2   Latitude                     48610 non-null  float64       \n",
      " 3   Longitude                    48610 non-null  float64       \n",
      " 4   Air Dew Point                48610 non-null  float64       \n",
      " 5   Air Temperature (OC)         48610 non-null  float64       \n",
      " 6   Humidity %                   48610 non-null  float64       \n",
      " 7   Atmospheric Pressure         48610 non-null  float64       \n",
      " 8   Liquid Precipitation         48610 non-null  float64       \n",
      " 9   Clouds Cover (Okta)          48610 non-null  float64       \n",
      " 10  Cloud Cover %                48610 non-null  float64       \n",
      " 11  Snow Depth                   48610 non-null  float64       \n",
      " 12  Horizontal Visibility In m.  48610 non-null  float64       \n",
      " 13  Wind Direction (Degrees)     48610 non-null  float64       \n",
      " 14  Wind Speed (MPS)             48610 non-null  float64       \n",
      "dtypes: datetime64[ns](1), float64(13), object(1)\n",
      "memory usage: 5.6+ MB\n"
     ]
    }
   ],
   "source": [
    "# %%% Fixing missing data.\n",
    "simpleImputer = SimpleImputer(\n",
    "    missing_values=np.nan, strategy='constant', fill_value=0)\n",
    "simpleImputer.fit(data6['Snow Depth'].values.reshape(-1, 1))\n",
    "data6['Snow Depth'] = simpleImputer.transform(\n",
    "    data6['Snow Depth'].values.reshape(-1, 1))\n",
    "\n",
    "simpleImputer = SimpleImputer(\n",
    "    missing_values=np.nan, strategy='constant', fill_value=0)\n",
    "simpleImputer.fit(data6['Wind Direction (Degrees)'].values.reshape(-1, 1))\n",
    "data6['Wind Direction (Degrees)'] = simpleImputer.transform(\n",
    "    data6['Wind Direction (Degrees)'].values.reshape(-1, 1))\n",
    "\n",
    "simpleImputer = SimpleImputer(missing_values=np.nan, strategy='mean')\n",
    "simpleImputer.fit(data6.iloc[:, 4:11])\n",
    "data6.iloc[:, 4:11] = simpleImputer.transform(data6.iloc[:, 4:11])\n",
    "\n",
    "simpleImputer = SimpleImputer(missing_values=np.nan, strategy='mean')\n",
    "simpleImputer.fit(data6['Horizontal Visibility In m.'].values.reshape(-1, 1))\n",
    "data6['Horizontal Visibility In m.'] = simpleImputer.transform(\n",
    "    data6['Horizontal Visibility In m.'].values.reshape(-1, 1))\n",
    "\n",
    "simpleImputer = SimpleImputer(missing_values=np.nan, strategy='mean')\n",
    "simpleImputer.fit(data6['Wind Speed (MPS)'].values.reshape(-1, 1))\n",
    "data6['Wind Speed (MPS)'] = simpleImputer.transform(\n",
    "    data6['Wind Speed (MPS)'].values.reshape(-1, 1))\n",
    "data6.info()"
   ]
  },
  {
   "cell_type": "markdown",
   "id": "c8150d3b",
   "metadata": {},
   "source": [
    "# Dataset7 (Mafraq)"
   ]
  },
  {
   "cell_type": "code",
   "execution_count": 39,
   "id": "b07a9956",
   "metadata": {},
   "outputs": [],
   "source": [
    "# Importing the data.\n",
    "data7 = pd.read_excel('Mafraq   01-01-2000  ---  31-05-2022.xlsx',\n",
    "                      header=5, na_values=['Null'], parse_dates=['Date/Time'])"
   ]
  },
  {
   "cell_type": "code",
   "execution_count": 40,
   "id": "56ac417b",
   "metadata": {},
   "outputs": [],
   "source": [
    "# Drop useless columns.\n",
    "data7 = data7.drop(\n",
    "    columns=['Station', 'Manual Present Weather …', 'Cloud Type', 'Wind Type'])"
   ]
  },
  {
   "cell_type": "code",
   "execution_count": 41,
   "id": "ab1392d3",
   "metadata": {},
   "outputs": [],
   "source": [
    "# Add a new columns.\n",
    "data7['Area'] = 'Mafraq'\n",
    "data7['Latitude'] = 32.22\n",
    "data7['Longitude'] = 36.15"
   ]
  },
  {
   "cell_type": "code",
   "execution_count": 42,
   "id": "b3196728",
   "metadata": {},
   "outputs": [],
   "source": [
    "# Replace (sky obscured or cloud amount cannot be estimated) with Nan value.\n",
    "data7['Clouds Cover (Okta)'] = data7['Clouds Cover (Okta)'].replace(\n",
    "    r'sky obscured or cloud amount cannot be estimated', np.nan)"
   ]
  },
  {
   "cell_type": "code",
   "execution_count": 43,
   "id": "0bc3373c",
   "metadata": {},
   "outputs": [],
   "source": [
    "# Move the columns.\n",
    "data7.insert(1, 'Area', data7.pop('Area'))\n",
    "data7.insert(2, 'Latitude', data7.pop('Latitude'))\n",
    "data7.insert(3, 'Longitude', data7.pop('Longitude'))"
   ]
  },
  {
   "cell_type": "code",
   "execution_count": 44,
   "id": "5a1b1d43",
   "metadata": {},
   "outputs": [
    {
     "name": "stdout",
     "output_type": "stream",
     "text": [
      "<class 'pandas.core.frame.DataFrame'>\n",
      "RangeIndex: 55016 entries, 0 to 55015\n",
      "Data columns (total 15 columns):\n",
      " #   Column                       Non-Null Count  Dtype         \n",
      "---  ------                       --------------  -----         \n",
      " 0   Date/Time                    55016 non-null  datetime64[ns]\n",
      " 1   Area                         55016 non-null  object        \n",
      " 2   Latitude                     55016 non-null  float64       \n",
      " 3   Longitude                    55016 non-null  float64       \n",
      " 4   Air Dew Point                55016 non-null  float64       \n",
      " 5   Air Temperature (OC)         55016 non-null  float64       \n",
      " 6   Humidity %                   55016 non-null  float64       \n",
      " 7   Atmospheric Pressure         55016 non-null  float64       \n",
      " 8   Liquid Precipitation         55016 non-null  float64       \n",
      " 9   Clouds Cover (Okta)          55016 non-null  float64       \n",
      " 10  Cloud Cover %                55016 non-null  float64       \n",
      " 11  Snow Depth                   55016 non-null  float64       \n",
      " 12  Horizontal Visibility In m.  55016 non-null  float64       \n",
      " 13  Wind Direction (Degrees)     55016 non-null  float64       \n",
      " 14  Wind Speed (MPS)             55016 non-null  float64       \n",
      "dtypes: datetime64[ns](1), float64(13), object(1)\n",
      "memory usage: 6.3+ MB\n"
     ]
    }
   ],
   "source": [
    "# Fixing missing data.\n",
    "simpleImputer = SimpleImputer(\n",
    "    missing_values=np.nan, strategy='constant', fill_value=0)\n",
    "simpleImputer.fit(data7['Snow Depth'].values.reshape(-1, 1))\n",
    "data7['Snow Depth'] = simpleImputer.transform(\n",
    "    data7['Snow Depth'].values.reshape(-1, 1))\n",
    "\n",
    "simpleImputer = SimpleImputer(\n",
    "    missing_values=np.nan, strategy='constant', fill_value=0)\n",
    "simpleImputer.fit(data7['Wind Direction (Degrees)'].values.reshape(-1, 1))\n",
    "data7['Wind Direction (Degrees)'] = simpleImputer.transform(\n",
    "    data7['Wind Direction (Degrees)'].values.reshape(-1, 1))\n",
    "\n",
    "simpleImputer = SimpleImputer(missing_values=np.nan, strategy='mean')\n",
    "simpleImputer.fit(data7.iloc[:, 4:11])\n",
    "data7.iloc[:, 4:11] = simpleImputer.transform(data7.iloc[:, 4:11])\n",
    "\n",
    "simpleImputer = SimpleImputer(missing_values=np.nan, strategy='mean')\n",
    "simpleImputer.fit(data7['Horizontal Visibility In m.'].values.reshape(-1, 1))\n",
    "data7['Horizontal Visibility In m.'] = simpleImputer.transform(\n",
    "    data7['Horizontal Visibility In m.'].values.reshape(-1, 1))\n",
    "\n",
    "simpleImputer = SimpleImputer(missing_values=np.nan, strategy='mean')\n",
    "simpleImputer.fit(data7['Wind Speed (MPS)'].values.reshape(-1, 1))\n",
    "data7['Wind Speed (MPS)'] = simpleImputer.transform(\n",
    "    data7['Wind Speed (MPS)'].values.reshape(-1, 1))\n",
    "data7.info()"
   ]
  },
  {
   "cell_type": "markdown",
   "id": "9b6e2123",
   "metadata": {},
   "source": [
    "# Dataset8 (Safawi)"
   ]
  },
  {
   "cell_type": "code",
   "execution_count": 45,
   "id": "2601de30",
   "metadata": {},
   "outputs": [],
   "source": [
    "# Importing the data.\n",
    "data8 = pd.read_excel('Safawi   01-01-2000 ---  31-05-2022.xlsx',\n",
    "                      header=5, na_values=['Null'], parse_dates=['Date/Time'])"
   ]
  },
  {
   "cell_type": "code",
   "execution_count": 46,
   "id": "1dc111b8",
   "metadata": {},
   "outputs": [],
   "source": [
    "# Drop useless columns.\n",
    "data8 = data8.drop(\n",
    "    columns=['Station', 'Manual Present Weather …', 'Cloud Type', 'Wind Type'])"
   ]
  },
  {
   "cell_type": "code",
   "execution_count": 47,
   "id": "bb9cdd07",
   "metadata": {},
   "outputs": [],
   "source": [
    "# Add a new columns.\n",
    "data8['Area'] = 'Safawi'\n",
    "data8['Latitude'] = 32.0939\n",
    "data8['Longitude'] = 37.0914"
   ]
  },
  {
   "cell_type": "code",
   "execution_count": 48,
   "id": "dc662455",
   "metadata": {},
   "outputs": [],
   "source": [
    "# Replace (sky obscured or cloud amount cannot be estimated) with Nan value.\n",
    "data8['Clouds Cover (Okta)'] = data8['Clouds Cover (Okta)'].replace(\n",
    "    r'sky obscured or cloud amount cannot be estimated', np.nan)"
   ]
  },
  {
   "cell_type": "code",
   "execution_count": 49,
   "id": "e49d63c4",
   "metadata": {},
   "outputs": [],
   "source": [
    "# Move the columns.\n",
    "data8.insert(1, 'Area', data8.pop('Area'))\n",
    "data8.insert(2, 'Latitude', data8.pop('Latitude'))\n",
    "data8.insert(3, 'Longitude', data8.pop('Longitude'))"
   ]
  },
  {
   "cell_type": "code",
   "execution_count": 50,
   "id": "7c23df9d",
   "metadata": {},
   "outputs": [
    {
     "name": "stdout",
     "output_type": "stream",
     "text": [
      "<class 'pandas.core.frame.DataFrame'>\n",
      "RangeIndex: 53691 entries, 0 to 53690\n",
      "Data columns (total 15 columns):\n",
      " #   Column                       Non-Null Count  Dtype         \n",
      "---  ------                       --------------  -----         \n",
      " 0   Date/Time                    53691 non-null  datetime64[ns]\n",
      " 1   Area                         53691 non-null  object        \n",
      " 2   Latitude                     53691 non-null  float64       \n",
      " 3   Longitude                    53691 non-null  float64       \n",
      " 4   Air Dew Point                53691 non-null  float64       \n",
      " 5   Air Temperature (OC)         53691 non-null  float64       \n",
      " 6   Humidity %                   53691 non-null  float64       \n",
      " 7   Atmospheric Pressure         53691 non-null  float64       \n",
      " 8   Liquid Precipitation         53691 non-null  float64       \n",
      " 9   Clouds Cover (Okta)          53691 non-null  float64       \n",
      " 10  Cloud Cover %                53691 non-null  float64       \n",
      " 11  Snow Depth                   53691 non-null  float64       \n",
      " 12  Horizontal Visibility In m.  53691 non-null  float64       \n",
      " 13  Wind Direction (Degrees)     53691 non-null  float64       \n",
      " 14  Wind Speed (MPS)             53691 non-null  float64       \n",
      "dtypes: datetime64[ns](1), float64(13), object(1)\n",
      "memory usage: 6.1+ MB\n"
     ]
    }
   ],
   "source": [
    "# Fixing missing data.\n",
    "simpleImputer = SimpleImputer(\n",
    "    missing_values=np.nan, strategy='constant', fill_value=0)\n",
    "simpleImputer.fit(data8['Snow Depth'].values.reshape(-1, 1))\n",
    "data8['Snow Depth'] = simpleImputer.transform(\n",
    "    data8['Snow Depth'].values.reshape(-1, 1))\n",
    "\n",
    "simpleImputer = SimpleImputer(\n",
    "    missing_values=np.nan, strategy='constant', fill_value=0)\n",
    "simpleImputer.fit(data8['Wind Direction (Degrees)'].values.reshape(-1, 1))\n",
    "data8['Wind Direction (Degrees)'] = simpleImputer.transform(\n",
    "    data8['Wind Direction (Degrees)'].values.reshape(-1, 1))\n",
    "\n",
    "simpleImputer = SimpleImputer(missing_values=np.nan, strategy='mean')\n",
    "simpleImputer.fit(data8.iloc[:, 4:11])\n",
    "data8.iloc[:, 4:11] = simpleImputer.transform(data8.iloc[:, 4:11])\n",
    "\n",
    "simpleImputer = SimpleImputer(missing_values=np.nan, strategy='mean')\n",
    "simpleImputer.fit(data8['Horizontal Visibility In m.'].values.reshape(-1, 1))\n",
    "data8['Horizontal Visibility In m.'] = simpleImputer.transform(\n",
    "    data8['Horizontal Visibility In m.'].values.reshape(-1, 1))\n",
    "\n",
    "simpleImputer = SimpleImputer(missing_values=np.nan, strategy='mean')\n",
    "simpleImputer.fit(data8['Wind Speed (MPS)'].values.reshape(-1, 1))\n",
    "data8['Wind Speed (MPS)'] = simpleImputer.transform(\n",
    "    data8['Wind Speed (MPS)'].values.reshape(-1, 1))\n",
    "data8.info()"
   ]
  },
  {
   "cell_type": "markdown",
   "id": "84b54a8a",
   "metadata": {},
   "source": [
    "# Group every 3 hours togather.\n",
    "Three of the datasets consist of data with one-hour interval here we are going transform the datasets from one-hour to three-hour intervals to match with the other datasets."
   ]
  },
  {
   "cell_type": "code",
   "execution_count": 51,
   "id": "eaef54c8",
   "metadata": {},
   "outputs": [],
   "source": [
    "d1 = data1.groupby(pd.Grouper(freq='3H', key='Date/Time')).mean()\n",
    "\n",
    "d2 = data2.groupby(pd.Grouper(freq='3H', key='Date/Time')).mean()\n",
    "\n",
    "d3 = data3.groupby(pd.Grouper(freq='3H', key='Date/Time')).mean()"
   ]
  },
  {
   "cell_type": "code",
   "execution_count": 52,
   "id": "dc3333cb",
   "metadata": {},
   "outputs": [],
   "source": [
    "# Add a new columns.\n",
    "d1['Date/Time'] = d1.index\n",
    "d1['Area'] = 'Amman Airport'\n",
    "\n",
    "d2['Date/Time'] = d2.index\n",
    "d2['Area'] = 'Aqaba Airport'\n",
    "\n",
    "d3['Date/Time'] = d3.index\n",
    "d3['Area'] = 'Queen Alia Airport'"
   ]
  },
  {
   "cell_type": "code",
   "execution_count": 53,
   "id": "b593f345",
   "metadata": {},
   "outputs": [],
   "source": [
    "# Move the columns.\n",
    "d1.insert(0, 'Date/Time', d1.pop('Date/Time'))\n",
    "d1.insert(1, 'Area', d1.pop('Area'))\n",
    "\n",
    "d2.insert(0, 'Date/Time', d2.pop('Date/Time'))\n",
    "d2.insert(1, 'Area', d2.pop('Area'))\n",
    "\n",
    "d3.insert(0, 'Date/Time', d3.pop('Date/Time'))\n",
    "d3.insert(1, 'Area', d3.pop('Area'))"
   ]
  },
  {
   "cell_type": "code",
   "execution_count": 54,
   "id": "8968f23e",
   "metadata": {},
   "outputs": [
    {
     "name": "stdout",
     "output_type": "stream",
     "text": [
      "<class 'pandas.core.frame.DataFrame'>\n",
      "DatetimeIndex: 65495 entries, 2000-01-01 00:00:00 to 2022-05-31 18:00:00\n",
      "Freq: 3H\n",
      "Data columns (total 15 columns):\n",
      " #   Column                       Non-Null Count  Dtype         \n",
      "---  ------                       --------------  -----         \n",
      " 0   Date/Time                    65495 non-null  datetime64[ns]\n",
      " 1   Area                         65495 non-null  object        \n",
      " 2   Latitude                     65495 non-null  float64       \n",
      " 3   Longitude                    65495 non-null  float64       \n",
      " 4   Air Dew Point                65495 non-null  float64       \n",
      " 5   Air Temperature (OC)         65495 non-null  float64       \n",
      " 6   Humidity %                   65495 non-null  float64       \n",
      " 7   Atmospheric Pressure         65495 non-null  float64       \n",
      " 8   Liquid Precipitation         65495 non-null  float64       \n",
      " 9   Clouds Cover (Okta)          65495 non-null  float64       \n",
      " 10  Cloud Cover %                65495 non-null  float64       \n",
      " 11  Snow Depth                   65495 non-null  float64       \n",
      " 12  Horizontal Visibility In m.  65495 non-null  float64       \n",
      " 13  Wind Direction (Degrees)     65495 non-null  float64       \n",
      " 14  Wind Speed (MPS)             65495 non-null  float64       \n",
      "dtypes: datetime64[ns](1), float64(13), object(1)\n",
      "memory usage: 8.0+ MB\n"
     ]
    }
   ],
   "source": [
    "# Fixing missing data in d1.\n",
    "simpleImputer = SimpleImputer(\n",
    "    missing_values=np.nan, strategy='constant', fill_value=0)\n",
    "simpleImputer.fit(d1['Snow Depth'].values.reshape(-1, 1))\n",
    "d1['Snow Depth'] = simpleImputer.transform(\n",
    "    d1['Snow Depth'].values.reshape(-1, 1))\n",
    "\n",
    "simpleImputer = SimpleImputer(\n",
    "    missing_values=np.nan, strategy='constant', fill_value=0)\n",
    "simpleImputer.fit(d1['Wind Direction (Degrees)'].values.reshape(-1, 1))\n",
    "d1['Wind Direction (Degrees)'] = simpleImputer.transform(\n",
    "    d1['Wind Direction (Degrees)'].values.reshape(-1, 1))\n",
    "\n",
    "simpleImputer = SimpleImputer(missing_values=np.nan, strategy='mean')\n",
    "simpleImputer.fit(d1.iloc[:, 4:11])\n",
    "d1.iloc[:, 4:11] = simpleImputer.transform(d1.iloc[:, 4:11])\n",
    "\n",
    "simpleImputer = SimpleImputer(missing_values=np.nan, strategy='mean')\n",
    "simpleImputer.fit(d1['Horizontal Visibility In m.'].values.reshape(-1, 1))\n",
    "d1['Horizontal Visibility In m.'] = simpleImputer.transform(\n",
    "    d1['Horizontal Visibility In m.'].values.reshape(-1, 1))\n",
    "\n",
    "simpleImputer = SimpleImputer(missing_values=np.nan, strategy='mean')\n",
    "simpleImputer.fit(d1['Wind Speed (MPS)'].values.reshape(-1, 1))\n",
    "d1['Wind Speed (MPS)'] = simpleImputer.transform(\n",
    "    d1['Wind Speed (MPS)'].values.reshape(-1, 1))\n",
    "\n",
    "simpleImputer = SimpleImputer(\n",
    "    missing_values=np.nan, strategy='constant', fill_value=31.59)\n",
    "simpleImputer.fit(d1['Latitude'].values.reshape(-1, 1))\n",
    "d1['Latitude'] = simpleImputer.transform(d1['Latitude'].values.reshape(-1, 1))\n",
    "\n",
    "simpleImputer = SimpleImputer(\n",
    "    missing_values=np.nan, strategy='constant', fill_value=35.59)\n",
    "simpleImputer.fit(d1['Longitude'].values.reshape(-1, 1))\n",
    "d1['Longitude'] = simpleImputer.transform(\n",
    "    d1['Longitude'].values.reshape(-1, 1))\n",
    "d1.info()"
   ]
  },
  {
   "cell_type": "code",
   "execution_count": 55,
   "id": "4c2233cf",
   "metadata": {},
   "outputs": [
    {
     "name": "stdout",
     "output_type": "stream",
     "text": [
      "<class 'pandas.core.frame.DataFrame'>\n",
      "DatetimeIndex: 65495 entries, 2000-01-01 00:00:00 to 2022-05-31 18:00:00\n",
      "Freq: 3H\n",
      "Data columns (total 15 columns):\n",
      " #   Column                       Non-Null Count  Dtype         \n",
      "---  ------                       --------------  -----         \n",
      " 0   Date/Time                    65495 non-null  datetime64[ns]\n",
      " 1   Area                         65495 non-null  object        \n",
      " 2   Latitude                     65495 non-null  float64       \n",
      " 3   Longitude                    65495 non-null  float64       \n",
      " 4   Air Dew Point                65495 non-null  float64       \n",
      " 5   Air Temperature (OC)         65495 non-null  float64       \n",
      " 6   Humidity %                   65495 non-null  float64       \n",
      " 7   Atmospheric Pressure         65495 non-null  float64       \n",
      " 8   Liquid Precipitation         65495 non-null  float64       \n",
      " 9   Clouds Cover (Okta)          65495 non-null  float64       \n",
      " 10  Cloud Cover %                65495 non-null  float64       \n",
      " 11  Snow Depth                   65495 non-null  float64       \n",
      " 12  Horizontal Visibility In m.  65495 non-null  float64       \n",
      " 13  Wind Direction (Degrees)     65495 non-null  float64       \n",
      " 14  Wind Speed (MPS)             65495 non-null  float64       \n",
      "dtypes: datetime64[ns](1), float64(13), object(1)\n",
      "memory usage: 8.0+ MB\n"
     ]
    }
   ],
   "source": [
    "# Fixing missing data in d2.\n",
    "simpleImputer = SimpleImputer(\n",
    "    missing_values=np.nan, strategy='constant', fill_value=0)\n",
    "simpleImputer.fit(d2['Snow Depth'].values.reshape(-1, 1))\n",
    "d2['Snow Depth'] = simpleImputer.transform(\n",
    "    d2['Snow Depth'].values.reshape(-1, 1))\n",
    "\n",
    "simpleImputer = SimpleImputer(\n",
    "    missing_values=np.nan, strategy='constant', fill_value=0)\n",
    "simpleImputer.fit(d2['Wind Direction (Degrees)'].values.reshape(-1, 1))\n",
    "d2['Wind Direction (Degrees)'] = simpleImputer.transform(\n",
    "    d2['Wind Direction (Degrees)'].values.reshape(-1, 1))\n",
    "\n",
    "simpleImputer = SimpleImputer(missing_values=np.nan, strategy='mean')\n",
    "simpleImputer.fit(d2.iloc[:, 4:11])\n",
    "d2.iloc[:, 4:11] = simpleImputer.transform(d2.iloc[:, 4:11])\n",
    "\n",
    "simpleImputer = SimpleImputer(missing_values=np.nan, strategy='mean')\n",
    "simpleImputer.fit(d2['Horizontal Visibility In m.'].values.reshape(-1, 1))\n",
    "d2['Horizontal Visibility In m.'] = simpleImputer.transform(\n",
    "    d2['Horizontal Visibility In m.'].values.reshape(-1, 1))\n",
    "\n",
    "simpleImputer = SimpleImputer(missing_values=np.nan, strategy='mean')\n",
    "simpleImputer.fit(d2['Wind Speed (MPS)'].values.reshape(-1, 1))\n",
    "d2['Wind Speed (MPS)'] = simpleImputer.transform(\n",
    "    d2['Wind Speed (MPS)'].values.reshape(-1, 1))\n",
    "\n",
    "simpleImputer = SimpleImputer(\n",
    "    missing_values=np.nan, strategy='constant', fill_value=29.33)\n",
    "simpleImputer.fit(d2['Latitude'].values.reshape(-1, 1))\n",
    "d2['Latitude'] = simpleImputer.transform(d2['Latitude'].values.reshape(-1, 1))\n",
    "\n",
    "simpleImputer = SimpleImputer(\n",
    "    missing_values=np.nan, strategy='constant', fill_value=35)\n",
    "simpleImputer.fit(d2['Longitude'].values.reshape(-1, 1))\n",
    "d2['Longitude'] = simpleImputer.transform(\n",
    "    d2['Longitude'].values.reshape(-1, 1))\n",
    "d2.info()"
   ]
  },
  {
   "cell_type": "code",
   "execution_count": 56,
   "id": "2f96397b",
   "metadata": {},
   "outputs": [
    {
     "name": "stdout",
     "output_type": "stream",
     "text": [
      "<class 'pandas.core.frame.DataFrame'>\n",
      "DatetimeIndex: 67024 entries, 2000-01-01 00:00:00 to 2022-12-08 21:00:00\n",
      "Freq: 3H\n",
      "Data columns (total 15 columns):\n",
      " #   Column                       Non-Null Count  Dtype         \n",
      "---  ------                       --------------  -----         \n",
      " 0   Date/Time                    67024 non-null  datetime64[ns]\n",
      " 1   Area                         67024 non-null  object        \n",
      " 2   Latitude                     67024 non-null  float64       \n",
      " 3   Longitude                    67024 non-null  float64       \n",
      " 4   Air Dew Point                67024 non-null  float64       \n",
      " 5   Air Temperature (OC)         67024 non-null  float64       \n",
      " 6   Humidity %                   67024 non-null  float64       \n",
      " 7   Atmospheric Pressure         67024 non-null  float64       \n",
      " 8   Liquid Precipitation         67024 non-null  float64       \n",
      " 9   Clouds Cover (Okta)          67024 non-null  float64       \n",
      " 10  Cloud Cover %                67024 non-null  float64       \n",
      " 11  Snow Depth                   67024 non-null  float64       \n",
      " 12  Horizontal Visibility In m.  67024 non-null  float64       \n",
      " 13  Wind Direction (Degrees)     67024 non-null  float64       \n",
      " 14  Wind Speed (MPS)             67024 non-null  float64       \n",
      "dtypes: datetime64[ns](1), float64(13), object(1)\n",
      "memory usage: 8.2+ MB\n"
     ]
    }
   ],
   "source": [
    "# Fixing missing data in d3.\n",
    "simpleImputer = SimpleImputer(\n",
    "    missing_values=np.nan, strategy='constant', fill_value=0)\n",
    "simpleImputer.fit(d3['Snow Depth'].values.reshape(-1, 1))\n",
    "d3['Snow Depth'] = simpleImputer.transform(\n",
    "    d3['Snow Depth'].values.reshape(-1, 1))\n",
    "\n",
    "simpleImputer = SimpleImputer(\n",
    "    missing_values=np.nan, strategy='constant', fill_value=0)\n",
    "simpleImputer.fit(d3['Wind Direction (Degrees)'].values.reshape(-1, 1))\n",
    "d3['Wind Direction (Degrees)'] = simpleImputer.transform(\n",
    "    d3['Wind Direction (Degrees)'].values.reshape(-1, 1))\n",
    "\n",
    "simpleImputer = SimpleImputer(missing_values=np.nan, strategy='mean')\n",
    "simpleImputer.fit(d3.iloc[:, 4:11])\n",
    "d3.iloc[:, 4:11] = simpleImputer.transform(d3.iloc[:, 4:11])\n",
    "\n",
    "simpleImputer = SimpleImputer(missing_values=np.nan, strategy='mean')\n",
    "simpleImputer.fit(d3['Horizontal Visibility In m.'].values.reshape(-1, 1))\n",
    "d3['Horizontal Visibility In m.'] = simpleImputer.transform(\n",
    "    d3['Horizontal Visibility In m.'].values.reshape(-1, 1))\n",
    "\n",
    "simpleImputer = SimpleImputer(missing_values=np.nan, strategy='mean')\n",
    "simpleImputer.fit(d3['Wind Speed (MPS)'].values.reshape(-1, 1))\n",
    "d3['Wind Speed (MPS)'] = simpleImputer.transform(\n",
    "    d3['Wind Speed (MPS)'].values.reshape(-1, 1))\n",
    "\n",
    "simpleImputer = SimpleImputer(\n",
    "    missing_values=np.nan, strategy='constant', fill_value=31.43)\n",
    "simpleImputer.fit(d3['Latitude'].values.reshape(-1, 1))\n",
    "d3['Latitude'] = simpleImputer.transform(d3['Latitude'].values.reshape(-1, 1))\n",
    "\n",
    "simpleImputer = SimpleImputer(\n",
    "    missing_values=np.nan, strategy='constant', fill_value=35.59)\n",
    "simpleImputer.fit(d3['Longitude'].values.reshape(-1, 1))\n",
    "d3['Longitude'] = simpleImputer.transform(\n",
    "    d3['Longitude'].values.reshape(-1, 1))\n",
    "d3.info()"
   ]
  },
  {
   "cell_type": "markdown",
   "id": "5402c1b4",
   "metadata": {},
   "source": [
    "# Combining all datasets."
   ]
  },
  {
   "cell_type": "code",
   "execution_count": 57,
   "id": "cd0af1eb",
   "metadata": {},
   "outputs": [
    {
     "name": "stdout",
     "output_type": "stream",
     "text": [
      "<class 'pandas.core.frame.DataFrame'>\n",
      "RangeIndex: 439478 entries, 0 to 439477\n",
      "Data columns (total 15 columns):\n",
      " #   Column                       Non-Null Count   Dtype         \n",
      "---  ------                       --------------   -----         \n",
      " 0   Date/Time                    439478 non-null  datetime64[ns]\n",
      " 1   Area                         439478 non-null  object        \n",
      " 2   Latitude                     439478 non-null  float64       \n",
      " 3   Longitude                    439478 non-null  float64       \n",
      " 4   Air Dew Point                439478 non-null  float64       \n",
      " 5   Air Temperature (OC)         439478 non-null  float64       \n",
      " 6   Humidity %                   439478 non-null  float64       \n",
      " 7   Atmospheric Pressure         439478 non-null  float64       \n",
      " 8   Liquid Precipitation         439478 non-null  float64       \n",
      " 9   Clouds Cover (Okta)          439478 non-null  float64       \n",
      " 10  Cloud Cover %                439478 non-null  float64       \n",
      " 11  Snow Depth                   439478 non-null  float64       \n",
      " 12  Horizontal Visibility In m.  439478 non-null  float64       \n",
      " 13  Wind Direction (Degrees)     439478 non-null  float64       \n",
      " 14  Wind Speed (MPS)             439478 non-null  float64       \n",
      "dtypes: datetime64[ns](1), float64(13), object(1)\n",
      "memory usage: 50.3+ MB\n"
     ]
    }
   ],
   "source": [
    "df = pd.concat([d1, d2, d3, data4, data5, data6,data7, data8], ignore_index=True)\n",
    "df.isna().sum()\n",
    "df.info()\n",
    "df.nunique()\n",
    "old_data=df.copy()"
   ]
  },
  {
   "cell_type": "code",
   "execution_count": 58,
   "id": "95468cd8",
   "metadata": {},
   "outputs": [],
   "source": [
    "# Converting Date/Time to numeric.\n",
    "df['Date/Time'] = df['Date/Time'].astype(str)\n",
    "df['Date/Time'] = pd.to_datetime(df['Date/Time'], format='%Y-%m-%dT%H:%M:%S')\n",
    "df['Date/Time'] = pd.to_numeric(pd.to_datetime(df['Date/Time']))"
   ]
  },
  {
   "cell_type": "code",
   "execution_count": 59,
   "id": "58be63be",
   "metadata": {},
   "outputs": [],
   "source": [
    "# Encoding.\n",
    "le = LabelEncoder()\n",
    "df['Area'] = le.fit_transform(df['Area'])\n",
    "df['Longitude'] = le.fit_transform(df['Longitude'])"
   ]
  },
  {
   "cell_type": "code",
   "execution_count": 60,
   "id": "009bcd4a",
   "metadata": {},
   "outputs": [],
   "source": [
    "# Splitting the dataset into the Training set and Test set.\n",
    "X = df.iloc[:,[0,1,2,3,4,7,10]].values\n",
    "y = df.iloc[:,[5,6,8,11,12,13,14]].values\n",
    "\n",
    "X_train, X_test, y_train, y_test = train_test_split(X,y, test_size = 0.1, random_state = 42)"
   ]
  },
  {
   "cell_type": "code",
   "execution_count": 61,
   "id": "cda14b86",
   "metadata": {},
   "outputs": [],
   "source": [
    "# Feature Scaling.\n",
    "sc=StandardScaler()\n",
    "X_train=sc.fit_transform(X_train)\n",
    "X_test=sc.transform(X_test)\n",
    "y_train=sc.fit_transform(y_train)\n",
    "y_test=sc.transform(y_test)"
   ]
  },
  {
   "cell_type": "code",
   "execution_count": 62,
   "id": "321c9328",
   "metadata": {},
   "outputs": [],
   "source": [
    "# Building the ANN model\n",
    "ann = tf.keras.models.Sequential()# Initializing the ANN\n",
    "ann.add(tf.keras.layers.Dense(units=7,  activation='relu'))# Adding the input layer and the first hidden layer\n",
    "ann.add(tf.keras.layers.Dense(units=5, activation='relu'))# Adding the second hidden layer\n",
    "ann.add(tf.keras.layers.Dense(units=10, activation='relu'))# Adding the second hidden layer\n",
    "ann.add(tf.keras.layers.Dense(units=15, activation='relu'))# Adding the second hidden layer\n",
    "ann.add(tf.keras.layers.Dense(units=5, activation='relu'))# Adding the second hidden layer\n",
    "ann.add(tf.keras.layers.Dense(units=7,  activation='elu'))# Adding the output layer"
   ]
  },
  {
   "cell_type": "code",
   "execution_count": 63,
   "id": "b4c400b1",
   "metadata": {},
   "outputs": [
    {
     "name": "stdout",
     "output_type": "stream",
     "text": [
      "Epoch 1/30\n",
      "12361/12361 [==============================] - 16s 1ms/step - loss: 0.8290 - accuracy: 0.3620\n",
      "Epoch 2/30\n",
      "12361/12361 [==============================] - 14s 1ms/step - loss: 0.7736 - accuracy: 0.3940\n",
      "Epoch 3/30\n",
      "12361/12361 [==============================] - 14s 1ms/step - loss: 0.7655 - accuracy: 0.4017\n",
      "Epoch 4/30\n",
      "12361/12361 [==============================] - 13s 1ms/step - loss: 0.7628 - accuracy: 0.4045\n",
      "Epoch 5/30\n",
      "12361/12361 [==============================] - 13s 1ms/step - loss: 0.7610 - accuracy: 0.4057\n",
      "Epoch 6/30\n",
      "12361/12361 [==============================] - 13s 1ms/step - loss: 0.7597 - accuracy: 0.4082\n",
      "Epoch 7/30\n",
      "12361/12361 [==============================] - 13s 1ms/step - loss: 0.7585 - accuracy: 0.4110\n",
      "Epoch 8/30\n",
      "12361/12361 [==============================] - 14s 1ms/step - loss: 0.7575 - accuracy: 0.4122\n",
      "Epoch 9/30\n",
      "12361/12361 [==============================] - 13s 1ms/step - loss: 0.7570 - accuracy: 0.4115\n",
      "Epoch 10/30\n",
      "12361/12361 [==============================] - 13s 1ms/step - loss: 0.7564 - accuracy: 0.4126\n",
      "Epoch 11/30\n",
      "12361/12361 [==============================] - 13s 1ms/step - loss: 0.7557 - accuracy: 0.4122\n",
      "Epoch 12/30\n",
      "12361/12361 [==============================] - 14s 1ms/step - loss: 0.7554 - accuracy: 0.4125\n",
      "Epoch 13/30\n",
      "12361/12361 [==============================] - 13s 1ms/step - loss: 0.7550 - accuracy: 0.4121\n",
      "Epoch 14/30\n",
      "12361/12361 [==============================] - 13s 1ms/step - loss: 0.7548 - accuracy: 0.4124\n",
      "Epoch 15/30\n",
      "12361/12361 [==============================] - 13s 1ms/step - loss: 0.7543 - accuracy: 0.4121\n",
      "Epoch 16/30\n",
      "12361/12361 [==============================] - 13s 1ms/step - loss: 0.7538 - accuracy: 0.4124\n",
      "Epoch 17/30\n",
      "12361/12361 [==============================] - 14s 1ms/step - loss: 0.7535 - accuracy: 0.4127\n",
      "Epoch 18/30\n",
      "12361/12361 [==============================] - 13s 1ms/step - loss: 0.7530 - accuracy: 0.4134\n",
      "Epoch 19/30\n",
      "12361/12361 [==============================] - 13s 1ms/step - loss: 0.7526 - accuracy: 0.4140\n",
      "Epoch 20/30\n",
      "12361/12361 [==============================] - 13s 1ms/step - loss: 0.7525 - accuracy: 0.4142\n",
      "Epoch 21/30\n",
      "12361/12361 [==============================] - 14s 1ms/step - loss: 0.7524 - accuracy: 0.4141\n",
      "Epoch 22/30\n",
      "12361/12361 [==============================] - 13s 1ms/step - loss: 0.7521 - accuracy: 0.4139\n",
      "Epoch 23/30\n",
      "12361/12361 [==============================] - 13s 1ms/step - loss: 0.7518 - accuracy: 0.4146\n",
      "Epoch 24/30\n",
      "12361/12361 [==============================] - 13s 1ms/step - loss: 0.7515 - accuracy: 0.4141\n",
      "Epoch 25/30\n",
      "12361/12361 [==============================] - 13s 1ms/step - loss: 0.7517 - accuracy: 0.4143\n",
      "Epoch 26/30\n",
      "12361/12361 [==============================] - 14s 1ms/step - loss: 0.7514 - accuracy: 0.4145\n",
      "Epoch 27/30\n",
      "12361/12361 [==============================] - 13s 1ms/step - loss: 0.7512 - accuracy: 0.4147\n",
      "Epoch 28/30\n",
      "12361/12361 [==============================] - 13s 1ms/step - loss: 0.7512 - accuracy: 0.4144\n",
      "Epoch 29/30\n",
      "12361/12361 [==============================] - 13s 1ms/step - loss: 0.7511 - accuracy: 0.4138\n",
      "Epoch 30/30\n",
      "12361/12361 [==============================] - 14s 1ms/step - loss: 0.7509 - accuracy: 0.4145\n"
     ]
    },
    {
     "data": {
      "text/plain": [
       "<keras.callbacks.History at 0x1ba1a2dcf10>"
      ]
     },
     "execution_count": 63,
     "metadata": {},
     "output_type": "execute_result"
    }
   ],
   "source": [
    "# Training the ANN model.\n",
    "ann.compile(optimizer = 'adam', loss = 'mean_squared_error', metrics = ['accuracy'])# Compiling the ANN\n",
    "ann.fit(X_train, y_train, epochs = 30)# Training the ANN on the Training set"
   ]
  },
  {
   "cell_type": "code",
   "execution_count": 64,
   "id": "137b0fec",
   "metadata": {},
   "outputs": [
    {
     "name": "stdout",
     "output_type": "stream",
     "text": [
      "1374/1374 [==============================] - 1s 939us/step\n",
      "Accuracy = 0.47\n"
     ]
    }
   ],
   "source": [
    "# Making the predictions and evaluating the model.\n",
    "y_pred = ann.predict(X_test)# #Predicting the Test set results\n",
    "\n",
    "print(\"Accuracy =\", round(sm.mean_absolute_error(y_test, y_pred), 2)) "
   ]
  },
  {
   "cell_type": "code",
   "execution_count": 65,
   "id": "d94eea4e",
   "metadata": {},
   "outputs": [],
   "source": [
    "# Decoding.\n",
    "# # %% Decoding.\n",
    "# y_pred= sc.inverse_transform(y_pred)\n",
    "# y_train= sc.inverse_transform(y_train)\n",
    "# y_test= sc.inverse_transform(y_test)\n",
    "# X_train=sc.inverse_transform(X_train.reshape(-14, 14))\n",
    "# X_test=sc.inverse_transform(X_test.reshape(-2, 2))\n",
    "\n",
    "# df['Longitude'] = le.inverse_transform(df['Longitude'])\n",
    "# df['Area'] = le.inverse_transform(df['Area'])\n",
    "# df['Date/Time'] = pd.to_datetime(df['Date/Time'],format='%Y-%m-%dT%H:%M:%S')"
   ]
  },
  {
   "cell_type": "code",
   "execution_count": 66,
   "id": "2c01decc",
   "metadata": {},
   "outputs": [],
   "source": [
    "# predicting future values.\n",
    "# new_data = pd.read_excel('Test.xlsx' , parse_dates=['Date/Time'])\n",
    "# new_data['Date/Time'] = new_data['Date/Time'].astype(str)\n",
    "# new_data['Date/Time'] = pd.to_datetime(new_data['Date/Time'], format='%Y-%m-%dT%H:%M:%S')\n",
    "# new_data['Date/Time'] = pd.to_numeric(pd.to_datetime(new_data['Date/Time']))\n",
    "\n",
    "# new_pred = ann.predict(new_data)\n",
    "\n",
    "# new_data['Date/Time'] = pd.to_datetime(new_data['Date/Time'],format='%Y-%m-%dT%H:%M:%S')\n",
    "\n",
    "# new_data = pd.concat([new_data,new_pred],ignore_index=True)"
   ]
  },
  {
   "cell_type": "code",
   "execution_count": 67,
   "id": "6d0b0af3",
   "metadata": {},
   "outputs": [],
   "source": [
    "# new_data[\"Day\"] = new_data['Date/Time'].dt.day\n",
    "# new_data[\"Time\"] = new_data['Date/Time'].dt.time\n",
    "# new_data[\"Year\"] = new_data['Date/Time'].dt.year\n",
    "# new_data[\"Month\"] = new_data['Date/Time'].dt.month\n",
    "\n",
    "#new_data.groupby([\"Month\",\"Day\"]).mean()"
   ]
  },
  {
   "cell_type": "code",
   "execution_count": 68,
   "id": "1fe955a2",
   "metadata": {},
   "outputs": [],
   "source": [
    "# old_data[\"Day\"] = old_data['Date/Time'].dt.day\n",
    "# old_data[\"Time\"] = old_data['Date/Time'].dt.time\n",
    "# old_data[\"Year\"] = old_data['Date/Time'].dt.year\n",
    "# old_data[\"Month\"] = old_data['Date/Time'].dt.month\n",
    "\n",
    "#old_data.groupby([\"Month\",\"Day\"]).mean()"
   ]
  },
  {
   "cell_type": "code",
   "execution_count": 69,
   "id": "64aa1953",
   "metadata": {},
   "outputs": [],
   "source": [
    "#cc= new_data-old_data"
   ]
  },
  {
   "cell_type": "code",
   "execution_count": 70,
   "id": "0c5934f4",
   "metadata": {},
   "outputs": [],
   "source": [
    "# fig = px.line(df,x = 'Date/Time', y = ['Humidity %'], template = 'plotly_dark', title = 'Variation of Humidity with Time')\n",
    "# fig.show()"
   ]
  },
  {
   "cell_type": "code",
   "execution_count": 71,
   "id": "6f0855d9",
   "metadata": {},
   "outputs": [],
   "source": [
    "# fig = px.line(df,x = 'Date/Time', y = ['Cloud Cover %','Clouds Cover (Okta)'], template = 'plotly_dark', title = 'Variation of Humidity with Time')\n",
    "# fig.show()\n"
   ]
  }
 ],
 "metadata": {
  "kernelspec": {
   "display_name": "Python 3 (ipykernel)",
   "language": "python",
   "name": "python3"
  },
  "language_info": {
   "codemirror_mode": {
    "name": "ipython",
    "version": 3
   },
   "file_extension": ".py",
   "mimetype": "text/x-python",
   "name": "python",
   "nbconvert_exporter": "python",
   "pygments_lexer": "ipython3",
   "version": "3.9.13"
  }
 },
 "nbformat": 4,
 "nbformat_minor": 5
}
